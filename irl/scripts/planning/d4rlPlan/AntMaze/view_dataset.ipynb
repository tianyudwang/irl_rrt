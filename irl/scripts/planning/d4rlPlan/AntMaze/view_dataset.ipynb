{
 "cells": [
  {
   "cell_type": "code",
   "execution_count": null,
   "source": [
    "import os\n",
    "import pandas as pd \n",
    "import numpy as np\n",
    "import h5py\n",
    "from icecream import ic"
   ],
   "outputs": [],
   "metadata": {}
  },
  {
   "cell_type": "code",
   "execution_count": null,
   "source": [
    "file_path = \"./Antmaze_umaze_multistart_False_multigoal_False.hdf5\"\n",
    "f = h5py.File(file_path, 'r')"
   ],
   "outputs": [],
   "metadata": {}
  },
  {
   "cell_type": "code",
   "execution_count": null,
   "source": [
    "list(f.keys())"
   ],
   "outputs": [],
   "metadata": {}
  },
  {
   "cell_type": "code",
   "execution_count": null,
   "source": [
    "obs = f['observations']\n",
    "type(obs)"
   ],
   "outputs": [],
   "metadata": {}
  },
  {
   "cell_type": "code",
   "execution_count": null,
   "source": [
    "def check_NaN(arr):\n",
    "    return np.isnan(arr).any()\n",
    "    "
   ],
   "outputs": [],
   "metadata": {}
  },
  {
   "cell_type": "code",
   "execution_count": null,
   "source": [
    "obs_high = np.amax(obs, axis=0).ravel()\n",
    "obs_low = np.amin(obs, axis=0).ravel()\n",
    "\n",
    "obs_high, obs_low"
   ],
   "outputs": [],
   "metadata": {}
  },
  {
   "cell_type": "code",
   "execution_count": null,
   "source": [
    "act = f['actions']\n",
    "act_high = np.amax(act, axis=0)\n",
    "act_low =  np.amin(act, axis=0)\n",
    "\n",
    "act_high, act_low"
   ],
   "outputs": [],
   "metadata": {}
  },
  {
   "cell_type": "code",
   "execution_count": null,
   "source": [
    "check_NaN(obs), check_NaN(act)"
   ],
   "outputs": [],
   "metadata": {}
  },
  {
   "cell_type": "code",
   "execution_count": null,
   "source": [
    "act_high_pd = np.ones(29) * -10\n",
    "act_low_pd = np.ones(29) * -10\n",
    "act_high_pd[:8] = act_high\n",
    "act_low_pd[:8] = act_low\n"
   ],
   "outputs": [],
   "metadata": {}
  },
  {
   "cell_type": "code",
   "execution_count": null,
   "source": [
    "data = {\n",
    "        'obs_high': obs_high,\n",
    "        'obs_low':obs_low,\n",
    "        'act_high': act_high_pd,\n",
    "        'act_low': act_low_pd, \n",
    "}\n",
    "\n",
    "df = pd.DataFrame(data)\n",
    "df.head(30)"
   ],
   "outputs": [],
   "metadata": {}
  },
  {
   "cell_type": "code",
   "execution_count": null,
   "source": [],
   "outputs": [],
   "metadata": {}
  }
 ],
 "metadata": {
  "orig_nbformat": 4,
  "language_info": {
   "name": "python",
   "version": "3.9.7",
   "mimetype": "text/x-python",
   "codemirror_mode": {
    "name": "ipython",
    "version": 3
   },
   "pygments_lexer": "ipython3",
   "nbconvert_exporter": "python",
   "file_extension": ".py"
  },
  "kernelspec": {
   "name": "python3",
   "display_name": "Python 3.9.7 64-bit ('venv': venv)"
  },
  "interpreter": {
   "hash": "e55da1d3a7c3a92e1d650634495bf4aa2b6c4275ad0ca801550f5c55bd8d09c7"
  }
 },
 "nbformat": 4,
 "nbformat_minor": 2
}